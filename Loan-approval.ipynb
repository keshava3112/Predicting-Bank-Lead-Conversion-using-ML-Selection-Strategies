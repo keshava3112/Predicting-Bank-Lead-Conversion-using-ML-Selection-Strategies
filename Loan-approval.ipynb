{
 "cells": [
  {
   "cell_type": "code",
   "execution_count": 3,
   "id": "ee8ebe4c-c3a3-43aa-8a2a-b4fa7d83e829",
   "metadata": {},
   "outputs": [],
   "source": [
    "import pandas as pd\n",
    "from sklearn.model_selection import train_test_split\n",
    "data = pd.read_csv('loan_lead_data.csv')"
   ]
  },
  {
   "cell_type": "code",
   "execution_count": 4,
   "id": "147334e8-241d-4208-aafd-7ad111ba533b",
   "metadata": {},
   "outputs": [],
   "source": [
    "X = data.drop('Loan Approved', axis=1)\n",
    "y = data['Loan Approved']\n",
    "X = pd.get_dummies(X)\n",
    "X_train, X_test, y_train, y_test = train_test_split(X, y, test_size=0.4, random_state=42)"
   ]
  },
  {
   "cell_type": "code",
   "execution_count": 5,
   "id": "6e9e4864-a04f-4aa6-a32b-90fc2136d70c",
   "metadata": {},
   "outputs": [],
   "source": [
    "import matplotlib.pyplot as plt"
   ]
  },
  {
   "cell_type": "code",
   "execution_count": 6,
   "id": "90c7fa6e-7075-49a8-a42c-36a55b18b12c",
   "metadata": {},
   "outputs": [
    {
     "data": {
      "text/plain": [
       "<AxesSubplot:title={'center':'Class Distribution before SMOTE'}>"
      ]
     },
     "execution_count": 6,
     "metadata": {},
     "output_type": "execute_result"
    },
    {
     "data": {
      "image/png": "[encoded data removed]",
      "text/plain": [
       "<Figure size 640x480 with 1 Axes>"
      ]
     },
     "metadata": {},
     "output_type": "display_data"
    }
   ],
   "source": [
    "y_train.value_counts().plot(kind='bar', title='Class Distribution before SMOTE')"
   ]
  },
  {
   "cell_type": "code",
   "execution_count": 8,
   "id": "6f8fc26c-297d-420a-b4a0-8404a2009c8e",
   "metadata": {},
   "outputs": [
    {
     "data": {
      "image/png": "[encoded data removed]",
      "text/plain": [
       "<Figure size 640x480 with 1 Axes>"
      ]
     },
     "metadata": {},
     "output_type": "display_data"
    }
   ],
   "source": [
    "from imblearn.over_sampling import SMOTE\n",
    "smote = SMOTE(random_state=42)\n",
    "\n",
    "X_train_smote, y_train_smote = smote.fit_resample(X_train, y_train)\n",
    "y_train_smote.value_counts().plot(kind='bar', title='Class Distribution after SMOTE')\n",
    "\n",
    "plt.show()"
   ]
  },
  {
   "cell_type": "code",
   "execution_count": 9,
   "id": "2e4ea9ea-98aa-4acb-b389-418355f049a2",
   "metadata": {},
   "outputs": [
    {
     "data": {
      "text/plain": [
       "1.7787871360778809"
      ]
     },
     "execution_count": 9,
     "metadata": {},
     "output_type": "execute_result"
    }
   ],
   "source": [
    "import time\n",
    "\n",
    "from sklearn.linear_model import LogisticRegression\n",
    "logreg = LogisticRegression(max_iter=1000)\n",
    "start_time = time.time()\n",
    "logreg.fit(X_train_smote, y_train_smote)\n",
    "logreg_train_time = time.time() - start_time\n",
    "\n",
    "logreg_train_time"
   ]
  },
  {
   "cell_type": "code",
   "execution_count": 10,
   "id": "974556b9-3eda-4a9a-9a8b-60eca03eb2d2",
   "metadata": {},
   "outputs": [
    {
     "data": {
      "text/plain": [
       "(0.8325, 0.003384828567504883)"
      ]
     },
     "execution_count": 10,
     "metadata": {},
     "output_type": "execute_result"
    }
   ],
   "source": [
    "from sklearn.metrics import accuracy_score\n",
    "start_time = time.time()\n",
    "y_pred_logreg = logreg.predict(X_test)\n",
    "logreg_predict_time = time.time() - start_time\n",
    "\n",
    "logreg_accuracy = accuracy_score(y_test, y_pred_logreg)\n",
    "logreg_accuracy, logreg_predict_time"
   ]
  },
  {
   "cell_type": "code",
   "execution_count": 11,
   "id": "fde8c3b1-0eca-4575-9072-e0c0acfde256",
   "metadata": {},
   "outputs": [
    {
     "data": {
      "text/plain": [
       "0.04671525955200195"
      ]
     },
     "execution_count": 11,
     "metadata": {},
     "output_type": "execute_result"
    }
   ],
   "source": [
    "from sklearn.tree import DecisionTreeClassifier\n",
    "dtree = DecisionTreeClassifier(random_state=42)\n",
    "start_time = time.time()\n",
    "dtree.fit(X_train_smote, y_train_smote)\n",
    "dtree_train_time = time.time() - start_time\n",
    "dtree_train_time"
   ]
  },
  {
   "cell_type": "code",
   "execution_count": 12,
   "id": "e98d8d6c-465c-40e3-b6a2-41294556ffed",
   "metadata": {},
   "outputs": [
    {
     "data": {
      "text/plain": [
       "(0.953, 0.003238677978515625)"
      ]
     },
     "execution_count": 12,
     "metadata": {},
     "output_type": "execute_result"
    }
   ],
   "source": [
    "start_time = time.time()\n",
    "y_pred_dtree = dtree.predict(X_test)\n",
    "dtree_predict_time = time.time() - start_time\n",
    "dtree_accuracy = accuracy_score(y_test, y_pred_dtree)\n",
    "dtree_accuracy, dtree_predict_time"
   ]
  },
  {
   "cell_type": "code",
   "execution_count": 13,
   "id": "9360dc2f-a402-4d85-9b5f-284de19940b0",
   "metadata": {},
   "outputs": [
    {
     "data": {
      "text/plain": [
       "0.8535799980163574"
      ]
     },
     "execution_count": 13,
     "metadata": {},
     "output_type": "execute_result"
    }
   ],
   "source": [
    "import xgboost as xgb\n",
    "xgb_model = xgb.XGBClassifier(n_estimators=50, learning_rate=0.1, random_state=42, use_label_encoder=False, eval_metric='logloss')\n",
    "start_time = time.time()\n",
    "xgb_model.fit(X_train_smote, y_train_smote)\n",
    "xgb_train_time = time.time() - start_time\n",
    "xgb_train_time"
   ]
  },
  {
   "cell_type": "code",
   "execution_count": 14,
   "id": "acee20a9-70bf-4a39-b019-1c78046aadd9",
   "metadata": {},
   "outputs": [
    {
     "data": {
      "text/plain": [
       "(0.972, 0.013007640838623047)"
      ]
     },
     "execution_count": 14,
     "metadata": {},
     "output_type": "execute_result"
    }
   ],
   "source": [
    "start_time = time.time()\n",
    "y_pred_xgb = xgb_model.predict(X_test)\n",
    "xgb_predict_time = time.time() - start_time\n",
    "xgb_accuracy = accuracy_score(y_test, y_pred_xgb)\n",
    "xgb_accuracy, xgb_predict_time"
   ]
  },
  {
   "cell_type": "code",
   "execution_count": 15,
   "id": "fee064a3-f928-453a-90ef-2072070613be",
   "metadata": {},
   "outputs": [
    {
     "data": {
      "text/plain": [
       "0.8583385944366455"
      ]
     },
     "execution_count": 15,
     "metadata": {},
     "output_type": "execute_result"
    }
   ],
   "source": [
    "from sklearn.svm import SVC\n",
    "svm_model = SVC(random_state=42)\n",
    "start_time = time.time()\n",
    "svm_model.fit(X_train_smote, y_train_smote)\n",
    "svm_train_time = time.time() - start_time\n",
    "svm_train_time"
   ]
  },
  {
   "cell_type": "code",
   "execution_count": 16,
   "id": "b1dac0e8-259e-477e-b938-a111d2b9c459",
   "metadata": {},
   "outputs": [
    {
     "data": {
      "text/plain": [
       "(0.8505, 0.3113975524902344)"
      ]
     },
     "execution_count": 16,
     "metadata": {},
     "output_type": "execute_result"
    }
   ],
   "source": [
    "start_time = time.time()\n",
    "y_pred_svm = svm_model.predict(X_test)\n",
    "\n",
    "svm_predict_time = time.time() - start_time\n",
    "svm_accuracy = accuracy_score(y_test, y_pred_svm)\n",
    "\n",
    "svm_accuracy, svm_predict_time"
   ]
  },
  {
   "cell_type": "code",
   "execution_count": 17,
   "id": "36dc1163-072e-439e-a46a-1d1c904a1d9f",
   "metadata": {},
   "outputs": [
    {
     "data": {
      "text/plain": [
       "(1425, 16081, 139092, 294317)"
      ]
     },
     "execution_count": 17,
     "metadata": {},
     "output_type": "execute_result"
    }
   ],
   "source": [
    "import sys\n",
    "import pickle\n",
    "import os\n",
    "logreg_stream = pickle.dumps(logreg)\n",
    "logreg_size = sys.getsizeof(logreg_stream)\n",
    "dtree_stream = pickle.dumps(dtree)\n",
    "dtree_size = sys.getsizeof(dtree_stream)\n",
    "\n",
    "xgb_model_stream = pickle.dumps(xgb_model)\n",
    "xgb_model_size = sys.getsizeof(xgb_model_stream)\n",
    "svm_model_stream = pickle.dumps(svm_model)\n",
    "svm_model_size = sys.getsizeof(svm_model_stream)\n",
    "logreg_size, dtree_size, xgb_model_size, svm_model_size"
   ]
  },
  {
   "cell_type": "code",
   "execution_count": 19,
   "id": "b1bb51dc-6fce-44cf-acf0-e449c0a03055",
   "metadata": {},
   "outputs": [
    {
     "data": {
      "text/plain": [
       "(Index(['Age', 'Loan Period'], dtype='object'),\n",
       " Index(['New Debt to Income ratio', 'Value of Collateral'], dtype='object'),\n",
       " Index(['New Debt to Income ratio', 'Value of Collateral'], dtype='object'))"
      ]
     },
     "execution_count": 19,
     "metadata": {},
     "output_type": "execute_result"
    }
   ],
   "source": [
    "logreg_coef = abs(logreg.coef_[0])\n",
    "\n",
    "top_2_logreg_features = X.columns[logreg_coef.argsort()[-2:][::-1]]\n",
    "\n",
    "top_2_dtree_features = X.columns[dtree.feature_importances_.argsort()[-2:][::-1]]\n",
    "\n",
    "top_2_xgb_features = X.columns[xgb_model.feature_importances_.argsort()[-2:][::-1]]\n",
    "top_2_logreg_features, top_2_dtree_features, top_2_xgb_features"
   ]
  },
  {
   "cell_type": "code",
   "execution_count": null,
   "id": "7002601b-0750-4ffe-aded-6dc98be59ead",
   "metadata": {},
   "outputs": [],
   "source": []
  }
 ],
 "metadata": {
  "kernelspec": {
   "display_name": "Python 3 (ipykernel)",
   "language": "python",
   "name": "python3"
  },
  "language_info": {
   "codemirror_mode": {
    "name": "ipython",
    "version": 3
   },
   "file_extension": ".py",
   "mimetype": "text/x-python",
   "name": "python",
   "nbconvert_exporter": "python",
   "pygments_lexer": "ipython3",
   "version": "3.8.10"
  }
 },
 "nbformat": 4,
 "nbformat_minor": 5
}
